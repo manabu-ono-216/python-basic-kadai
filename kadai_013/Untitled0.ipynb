{
  "nbformat": 4,
  "nbformat_minor": 0,
  "metadata": {
    "colab": {
      "provenance": []
    },
    "kernelspec": {
      "name": "python3",
      "display_name": "Python 3"
    },
    "language_info": {
      "name": "python"
    }
  },
  "cells": [
    {
      "cell_type": "code",
      "execution_count": null,
      "metadata": {
        "colab": {
          "base_uri": "https://localhost:8080/"
        },
        "id": "j5nvhsvoXqQs",
        "outputId": "a8fa1a5d-0794-4e24-eb0e-81aaafabda11"
      },
      "outputs": [
        {
          "output_type": "stream",
          "name": "stdout",
          "text": [
            "3\n"
          ]
        }
      ],
      "source": [
        "print(1+2)"
      ]
    },
    {
      "cell_type": "code",
      "source": [
        "print(45 + 18)\n",
        "print(30 - 12)\n",
        "print(15 * 6)\n",
        "print(30 / 3)\n",
        "print(45 % 8)"
      ],
      "metadata": {
        "colab": {
          "base_uri": "https://localhost:8080/"
        },
        "id": "l4pFVci8YEsm",
        "outputId": "451ed713-227c-405d-8443-0861189b255c"
      },
      "execution_count": null,
      "outputs": [
        {
          "output_type": "stream",
          "name": "stdout",
          "text": [
            "63\n",
            "18\n",
            "90\n",
            "10.0\n",
            "5\n"
          ]
        }
      ]
    },
    {
      "cell_type": "code",
      "source": [],
      "metadata": {
        "id": "Nkjn5BFVAyjV"
      },
      "execution_count": null,
      "outputs": []
    },
    {
      "cell_type": "code",
      "source": [],
      "metadata": {
        "id": "j2rIwDw3i0rt"
      },
      "execution_count": null,
      "outputs": []
    },
    {
      "cell_type": "code",
      "source": [
        "print(type(30 / 3))"
      ],
      "metadata": {
        "colab": {
          "base_uri": "https://localhost:8080/"
        },
        "id": "mO9Q3muLdReK",
        "outputId": "403f106f-9479-4aba-d322-c90387cd41eb"
      },
      "execution_count": null,
      "outputs": [
        {
          "output_type": "stream",
          "name": "stdout",
          "text": [
            "<class 'float'>\n"
          ]
        }
      ]
    },
    {
      "cell_type": "code",
      "source": [
        "print(45 +1.8)\n",
        "print(3 - 1.2)\n",
        "print(15 * 0.6)\n",
        "print(3 / 0.3)\n",
        "print(45 % 0.8)"
      ],
      "metadata": {
        "colab": {
          "base_uri": "https://localhost:8080/"
        },
        "id": "c-G93tYMdgT6",
        "outputId": "96d68419-309b-43cb-cb45-1a3d73edbb3c"
      },
      "execution_count": null,
      "outputs": [
        {
          "output_type": "stream",
          "name": "stdout",
          "text": [
            "46.8\n",
            "1.8\n",
            "9.0\n",
            "10.0\n",
            "0.1999999999999975\n"
          ]
        }
      ]
    },
    {
      "cell_type": "code",
      "source": [
        "print(\"今日の天気は\" + \"晴れ\")\n",
        "print(\"今日の天気は\" \"曇り\")"
      ],
      "metadata": {
        "colab": {
          "base_uri": "https://localhost:8080/"
        },
        "id": "zqhOOXDOd8dC",
        "outputId": "d220e3a4-2d57-4f56-9efc-19441d2b3dfb"
      },
      "execution_count": null,
      "outputs": [
        {
          "output_type": "stream",
          "name": "stdout",
          "text": [
            "今日の天気は晴れ\n",
            "今日の天気は曇り\n"
          ]
        }
      ]
    },
    {
      "cell_type": "code",
      "source": [
        "print(\"降水確率\" + str(50) + \"%\")"
      ],
      "metadata": {
        "colab": {
          "base_uri": "https://localhost:8080/"
        },
        "id": "xiF-hPN6eV7x",
        "outputId": "76d24d6d-f0c5-498b-fdea-7f808f2b5a4f"
      },
      "execution_count": null,
      "outputs": [
        {
          "output_type": "stream",
          "name": "stdout",
          "text": [
            "降水確率50%\n"
          ]
        }
      ]
    },
    {
      "cell_type": "code",
      "source": [
        "print(\"晴れ\" * 5)\n",
        "print(\"晴れ\" + \"晴れ\" + \"晴れ\" + \"晴れ\" + \"晴れ\")"
      ],
      "metadata": {
        "colab": {
          "base_uri": "https://localhost:8080/"
        },
        "id": "mxn1wb4ietFt",
        "outputId": "e4e7c24e-3014-46ee-e146-4006aa035e2d"
      },
      "execution_count": null,
      "outputs": [
        {
          "output_type": "stream",
          "name": "stdout",
          "text": [
            "晴れ晴れ晴れ晴れ晴れ\n",
            "晴れ晴れ晴れ晴れ晴れ\n"
          ]
        }
      ]
    },
    {
      "cell_type": "code",
      "source": [
        "user_name = \"侍太郎\"\n",
        "print(user_name)\n",
        "\n",
        "user_name = \"侍花子\"\n",
        "print(user_name)"
      ],
      "metadata": {
        "colab": {
          "base_uri": "https://localhost:8080/"
        },
        "id": "dWZvNDYEgu89",
        "outputId": "1de630a6-6e6c-49a1-e989-10daaff3a718"
      },
      "execution_count": null,
      "outputs": [
        {
          "output_type": "stream",
          "name": "stdout",
          "text": [
            "侍太郎\n",
            "侍花子\n"
          ]
        }
      ]
    },
    {
      "cell_type": "code",
      "source": [
        "# 整数型と浮動小数点の足し算\n",
        "number1 = 5\n",
        "number2 = 2.5\n",
        "print(number1 + number2)\n",
        "\n",
        "# 文字列型と文字列型の連結\n",
        "last_name = \"侍\"\n",
        "first_name = \"太郎\"\n",
        "print(last_name + first_name)"
      ],
      "metadata": {
        "colab": {
          "base_uri": "https://localhost:8080/"
        },
        "id": "S7MZh3FthNIn",
        "outputId": "fd68d47e-87a4-4fb7-b9ab-2f76bd2ce9e7"
      },
      "execution_count": null,
      "outputs": [
        {
          "output_type": "stream",
          "name": "stdout",
          "text": [
            "7.5\n",
            "侍太郎\n"
          ]
        }
      ]
    },
    {
      "cell_type": "code",
      "source": [
        "last_name = \"侍\"\n",
        "first_name = \"太郎\"\n",
        "sister_name = \"花子\"\n",
        "\n",
        "# 3つの変数を文字列内に埋め込んで表示\n",
        "print(f\"私の名前は{last_name}{first_name}です。妹の名前は{sister_name}です。\")"
      ],
      "metadata": {
        "colab": {
          "base_uri": "https://localhost:8080/"
        },
        "id": "s-xHJIX0h8-6",
        "outputId": "99c7295e-1627-48f6-c39b-44ef51458fe2"
      },
      "execution_count": null,
      "outputs": [
        {
          "output_type": "stream",
          "name": "stdout",
          "text": [
            "私の名前は侍太郎です。妹の名前は花子です。\n"
          ]
        }
      ]
    },
    {
      "cell_type": "code",
      "source": [
        "# 台形の寸法\n",
        "upper_base = 10  # 上辺（cm）\n",
        "lower_base = 20  # 下辺（cm）\n",
        "height = 5       # 高さ（cm）\n",
        "\n",
        "# 台形の面積を計算（公式：（上辺＋下辺）× 高さ ÷ 2）\n",
        "area = (upper_base + lower_base) * height / 2\n",
        "\n",
        "# 結果を表示（単位付き）\n",
        "print(f\"台形の面積は {area} cm² です。\")"
      ],
      "metadata": {
        "colab": {
          "base_uri": "https://localhost:8080/"
        },
        "id": "GmAPCFhJkZ5b",
        "outputId": "a44ec69f-0b80-49b9-eca9-279dd41009c1"
      },
      "execution_count": null,
      "outputs": [
        {
          "output_type": "stream",
          "name": "stdout",
          "text": [
            "台形の面積は 75.0 cm² です。\n"
          ]
        }
      ]
    },
    {
      "cell_type": "code",
      "source": [
        "user_names = [\"侍太郎\", \"侍一郎\", \"侍二郎\", \"侍三郎\", \"侍四郎\"]\n",
        "\n",
        "print(user_names[1])\n",
        "\n",
        "user_names[1]=\"侍花子\"\n",
        "print(user_names)\n",
        "\n",
        "user_names.append(\"侍五郎\")\n",
        "print(user_names)\n",
        "\n",
        "user_names.pop(2)\n",
        "print(user_names)"
      ],
      "metadata": {
        "colab": {
          "base_uri": "https://localhost:8080/"
        },
        "id": "15KguXcSi5iQ",
        "outputId": "ad5daae0-a33e-49c9-ebb5-7d5b1c313d95"
      },
      "execution_count": null,
      "outputs": [
        {
          "output_type": "stream",
          "name": "stdout",
          "text": [
            "侍一郎\n",
            "['侍太郎', '侍花子', '侍二郎', '侍三郎', '侍四郎']\n",
            "['侍太郎', '侍花子', '侍二郎', '侍三郎', '侍四郎', '侍五郎']\n",
            "['侍太郎', '侍花子', '侍三郎', '侍四郎', '侍五郎']\n"
          ]
        }
      ]
    },
    {
      "cell_type": "code",
      "source": [
        "country_names = (\"日本\", \"アメリカ\", \"イギリス\", \"フランス\")\n",
        "\n",
        "# 3番目の要素を取り出す\n",
        "print(country_names[2])\n",
        "\n",
        "# すべての要素を取り出す\n",
        "print(country_names)"
      ],
      "metadata": {
        "colab": {
          "base_uri": "https://localhost:8080/"
        },
        "id": "Sa0cKmxXnKbO",
        "outputId": "ab37dbad-8367-408b-862c-769a467c95d6"
      },
      "execution_count": null,
      "outputs": [
        {
          "output_type": "stream",
          "name": "stdout",
          "text": [
            "イギリス\n",
            "('日本', 'アメリカ', 'イギリス', 'フランス')\n"
          ]
        }
      ]
    },
    {
      "cell_type": "code",
      "source": [
        "country_names = {\"アメリカ\", \"イギリス\", \"日本\", \"フランス\"}\n",
        "\n",
        "# セット全体を表示\n",
        "print(country_names)\n",
        "\n",
        "country_names.add(\"ドイツ\") #「ドイツ」をセットに追加\n",
        "print(country_names)\n",
        "\n",
        "country_names.remove(\"イギリス\") # セットから「イギリス」を削除\n",
        "print(country_names)"
      ],
      "metadata": {
        "colab": {
          "base_uri": "https://localhost:8080/"
        },
        "id": "J0SOR-mCoi9U",
        "outputId": "0ec9d762-4b62-46e7-a2c0-0ca885b48552"
      },
      "execution_count": null,
      "outputs": [
        {
          "output_type": "stream",
          "name": "stdout",
          "text": [
            "{'アメリカ', '日本', 'イギリス', 'フランス'}\n",
            "{'イギリス', 'ドイツ', '日本', 'アメリカ', 'フランス'}\n",
            "{'ドイツ', '日本', 'アメリカ', 'フランス'}\n"
          ]
        }
      ]
    },
    {
      "cell_type": "code",
      "source": [
        "# 連想配列を作成\n",
        "personal_data = {\"name\": \"侍太郎\", \"age\": 36, \"gender\": \"男性\"}\n",
        "\n",
        "# キー「name」の値を表示\n",
        "print(personal_data[\"name\"])\n",
        "\n",
        "# 連想配列全体を表示\n",
        "print(personal_data)\n",
        "\n",
        "# キー「age」の値を更新\n",
        "personal_data[\"age\"] = 37\n",
        "\n",
        "# 新しく要素（キーと値）を追加\n",
        "personal_data[\"address\"] = \"東京都\"\n",
        "\n",
        "# 連想配列全体を表示\n",
        "print(personal_data)"
      ],
      "metadata": {
        "colab": {
          "base_uri": "https://localhost:8080/"
        },
        "id": "EN6ClwHgsO2y",
        "outputId": "4631ce1c-e399-496b-e4ac-ab6456b163b6"
      },
      "execution_count": null,
      "outputs": [
        {
          "output_type": "stream",
          "name": "stdout",
          "text": [
            "侍太郎\n",
            "{'name': '侍太郎', 'age': 36, 'gender': '男性'}\n",
            "{'name': '侍太郎', 'age': 37, 'gender': '男性', 'address': '東京都'}\n"
          ]
        }
      ]
    },
    {
      "cell_type": "code",
      "source": [
        "array = [\"月曜日は晴れです\", \"火曜日は雨です\", \"水曜日は晴れです\", \"木曜日は晴れです\", \"金曜日は曇りです\", \"土曜日は曇りのち雨です\", \"日曜日は雷雨です\"]\n",
        "\n",
        "dictionary = {\"mon\": \"晴れ\", \"tue\": \"雨\", \"wed\": \"晴れ\", \"thu\": \"晴れ\", \"fri\": \"曇り\", \"sat\": \"曇りのち雨\", \"sun\": \"雷雨\"}\n",
        "\n",
        "print(array[2])\n",
        "print(dictionary[\"wed\"])"
      ],
      "metadata": {
        "colab": {
          "base_uri": "https://localhost:8080/"
        },
        "id": "2LjXRtW4uRL_",
        "outputId": "ca4f7889-44cf-48fc-ee0a-28e6a95fdc3d"
      },
      "execution_count": null,
      "outputs": [
        {
          "output_type": "stream",
          "name": "stdout",
          "text": [
            "水曜日は晴れです\n",
            "晴れ\n"
          ]
        }
      ]
    },
    {
      "cell_type": "code",
      "source": [
        "print(45 + 18) # 算術演算子を使った場合の戻り値を出力する\n",
        "print(45 > 18) # 比較演算子を使った場合の戻り値を出力する"
      ],
      "metadata": {
        "colab": {
          "base_uri": "https://localhost:8080/"
        },
        "id": "TghtXV4jpATv",
        "outputId": "de7036f8-c090-49bd-e9f1-3f7e4e93d6a1"
      },
      "execution_count": null,
      "outputs": [
        {
          "output_type": "stream",
          "name": "stdout",
          "text": [
            "63\n",
            "True\n"
          ]
        }
      ]
    },
    {
      "cell_type": "code",
      "source": [
        "print(\"5\" == 5)"
      ],
      "metadata": {
        "colab": {
          "base_uri": "https://localhost:8080/"
        },
        "id": "SzaEhYknpgN5",
        "outputId": "7c9385dd-a2a1-4ac1-d3fa-9df72f53ce31"
      },
      "execution_count": null,
      "outputs": [
        {
          "output_type": "stream",
          "name": "stdout",
          "text": [
            "False\n"
          ]
        }
      ]
    },
    {
      "cell_type": "code",
      "source": [
        "# ランダムな整数を利用するために、randomモジュールをインポート\n",
        "import random\n",
        "\n",
        "# 変数numに0～4までのランダムな整数を代入する\n",
        "num = random.randint(0, 4)\n",
        "\n",
        "# 変数numの値を出力\n",
        "print(num)\n",
        "\n",
        "# 変数numの値が4なら「大当たりです」、3なら「当たりです」、それ以外なら「はずれです」と出力する\n",
        "if num == 4:\n",
        "  print(\"大当たりです\")\n",
        "elif num == 3:\n",
        "  print(\"当たりです\")\n",
        "else:\n",
        "  print(\"はずれです\")"
      ],
      "metadata": {
        "colab": {
          "base_uri": "https://localhost:8080/"
        },
        "id": "9ed6j3X_p_5S",
        "outputId": "694211c2-78b8-453b-86e8-1fdde6790a5b"
      },
      "execution_count": null,
      "outputs": [
        {
          "output_type": "stream",
          "name": "stdout",
          "text": [
            "4\n",
            "大当たりです\n"
          ]
        }
      ]
    },
    {
      "cell_type": "code",
      "source": [
        "# ランダムな整数を利用するために、randomモジュールをインポート\n",
        "import random\n",
        "\n",
        "# 変数numに0～4までのランダムな整数を代入する\n",
        "num = random.randint(0, 4)\n",
        "\n",
        "# 変数numの値を出力\n",
        "print(num)\n",
        "\n",
        "# すべての条件が成り立つ場合にのみ処理を行う（変数numの値が2）\n",
        "if 1 < num and num < 3:\n",
        "  print(\"変数numは1より大きく、3より小さいです\")\n",
        "else:\n",
        "  print(\"and条件が成り立ちませんでした\")\n",
        "\n",
        "# 1つでも条件が成り立てば処理を行う（変数numの値が1または3）\n",
        "if num == 1 or num == 3:\n",
        "  print(\"変数numは1または3です\")\n",
        "else:\n",
        "  print(\"or条件が成り立ちませんでした\")"
      ],
      "metadata": {
        "colab": {
          "base_uri": "https://localhost:8080/"
        },
        "id": "yeFAYXjStuJh",
        "outputId": "62af70ed-37c3-409e-c91d-aadc02cf9735"
      },
      "execution_count": null,
      "outputs": [
        {
          "output_type": "stream",
          "name": "stdout",
          "text": [
            "0\n",
            "and条件が成り立ちませんでした\n",
            "or条件が成り立ちませんでした\n"
          ]
        }
      ]
    },
    {
      "cell_type": "code",
      "source": [
        "var = 30\n",
        "\n",
        "if var % 3 == 0 and var % 5 ==0:\n",
        "  print(\"FizzBuzz\")\n",
        "elif var % 3 == 0:\n",
        "  print(\"Fizz\")\n",
        "elif var % 5 == 0:\n",
        "  print(\"Buzz\")\n",
        "else:\n",
        "  print(var)"
      ],
      "metadata": {
        "colab": {
          "base_uri": "https://localhost:8080/"
        },
        "id": "2jR_qi8Fwupx",
        "outputId": "f813da7c-1fc2-40aa-c5bf-ba86b3e24747"
      },
      "execution_count": null,
      "outputs": [
        {
          "output_type": "stream",
          "name": "stdout",
          "text": [
            "FizzBuzz\n"
          ]
        }
      ]
    },
    {
      "cell_type": "code",
      "source": [
        "for i in range(1, 11):\n",
        "  print(i)"
      ],
      "metadata": {
        "colab": {
          "base_uri": "https://localhost:8080/"
        },
        "id": "cUirukH6zNKF",
        "outputId": "8e046093-6122-4df4-f3e4-cb2edf0cbce1"
      },
      "execution_count": null,
      "outputs": [
        {
          "output_type": "stream",
          "name": "stdout",
          "text": [
            "1\n",
            "2\n",
            "3\n",
            "4\n",
            "5\n",
            "6\n",
            "7\n",
            "8\n",
            "9\n",
            "10\n"
          ]
        }
      ]
    },
    {
      "cell_type": "code",
      "source": [
        "# ランダムな整数を利用するため、記述が必要です\n",
        "import random\n",
        "\n",
        "for i in range(1, 11):\n",
        "  # 変数numに1～20までのランダムな整数を代入する\n",
        "  num = random.randint(1, 20)\n",
        "\n",
        "  print(f\"{i}回目の結果は{num}です。\")\n",
        "\n",
        "  # 変数numの値が20であれば、break文で繰り返し処理を強制終了する\n",
        "  if num == 20:\n",
        "    print(\"20が出たので繰り返し処理を強制終了します\")\n",
        "    break"
      ],
      "metadata": {
        "colab": {
          "base_uri": "https://localhost:8080/"
        },
        "id": "onbW5l2zzhpL",
        "outputId": "bd415e83-20b8-4aef-a893-16bda4f515cf"
      },
      "execution_count": null,
      "outputs": [
        {
          "output_type": "stream",
          "name": "stdout",
          "text": [
            "1回目の結果は4です。\n",
            "2回目の結果は16です。\n",
            "3回目の結果は15です。\n",
            "4回目の結果は4です。\n",
            "5回目の結果は20です。\n",
            "20が出たので繰り返し処理を強制終了します\n"
          ]
        }
      ]
    },
    {
      "cell_type": "code",
      "source": [
        "for i in range(1, 11):\n",
        "  # ループ変数iの値が奇数（2で割った余りが1）であれば、値を出力せずcontinue文で次のループに進む\n",
        "  if i % 2 == 1:\n",
        "    continue\n",
        "\n",
        "  print(i)"
      ],
      "metadata": {
        "colab": {
          "base_uri": "https://localhost:8080/"
        },
        "id": "JyQzYK5K0xlZ",
        "outputId": "f25b64a0-a61b-4498-c431-0c3e6c9302f9"
      },
      "execution_count": null,
      "outputs": [
        {
          "output_type": "stream",
          "name": "stdout",
          "text": [
            "2\n",
            "4\n",
            "6\n",
            "8\n",
            "10\n"
          ]
        }
      ]
    },
    {
      "cell_type": "code",
      "source": [
        "# ランダムな整数を利用するため、記述が必要です。\n",
        "import random\n",
        "\n",
        "# 変数numに0～4までのランダムな整数を代入する\n",
        "num = random.randint(0, 4)\n",
        "\n",
        "# カウンタ変数を用意する\n",
        "i = 1\n",
        "\n",
        "# 変数numの最初の値を出力する（確認用）\n",
        "print(f\"最初の値は{num}です。\")\n",
        "\n",
        "# 変数numの値が0以外である間、変数numの値を出力し続ける\n",
        "while num != 0:\n",
        "  # 変数numに0～4までのランダムな整数を代入する\n",
        "  num = random.randint(0, 4)\n",
        "\n",
        "  # カウンタ変数iの値が5であれば、break文で繰り返し処理を強制終了する\n",
        "  if i == 5:\n",
        "    print(\"5回目なので繰り返し処理を強制終了します。\")\n",
        "    break\n",
        "\n",
        "  # 次の条件式で比較される、変数numの現在の値を出力する\n",
        "  print(f\"現在の値は{num}です。\")\n",
        "  # カウンタ変数の値を1増やす\n",
        "  i = i + 1"
      ],
      "metadata": {
        "colab": {
          "base_uri": "https://localhost:8080/"
        },
        "id": "oIYorC7q16Js",
        "outputId": "1e4abd32-45ab-4c9b-cd4a-3454c3046f66"
      },
      "execution_count": null,
      "outputs": [
        {
          "output_type": "stream",
          "name": "stdout",
          "text": [
            "最初の値は3です。\n",
            "現在の値は2です。\n",
            "現在の値は2です。\n",
            "現在の値は3です。\n",
            "現在の値は2です。\n",
            "5回目なので繰り返し処理を強制終了します。\n"
          ]
        }
      ]
    },
    {
      "cell_type": "code",
      "source": [
        "# ランダムな整数を利用するため、記述が必要です。\n",
        "import random\n",
        "\n",
        "# 合計用の変数を用意する\n",
        "sum = 0\n",
        "\n",
        "# 変数sumの値が20以上になるまで繰り返し処理を行う\n",
        "while sum < 20:\n",
        "  # 変数numに1～10までのランダムな整数を代入する\n",
        "  num = random.randint(1, 10)\n",
        "\n",
        "  print(f\"{num}が出ました。\")\n",
        "\n",
        "  # 変数numの値が偶数（2で割った余りが0）であれば、加算せずにcontinue文で次のループに進む\n",
        "  if num % 2 == 0:\n",
        "    print(\"偶数なので加算しません。\")\n",
        "    continue\n",
        "\n",
        "  # 変数sumに変数numの値を加算する\n",
        "  sum = sum + num\n",
        "  print(f\"現在の合計は{sum}です。\")"
      ],
      "metadata": {
        "colab": {
          "base_uri": "https://localhost:8080/"
        },
        "id": "mxDTMOKi5MAL",
        "outputId": "985d1d6f-6c9e-470a-a77f-03c99636de50"
      },
      "execution_count": null,
      "outputs": [
        {
          "output_type": "stream",
          "name": "stdout",
          "text": [
            "9が出ました。\n",
            "現在の合計は9です。\n",
            "9が出ました。\n",
            "現在の合計は18です。\n",
            "6が出ました。\n",
            "偶数なので加算しません。\n",
            "9が出ました。\n",
            "現在の合計は27です。\n"
          ]
        }
      ]
    },
    {
      "cell_type": "code",
      "source": [
        "user_names = [\"侍太郎\", \"侍一郎\", \"侍二郎\", \"侍三郎\", \"侍四郎\"]\n",
        "\n",
        "# 配列user_namesの要素を1つずつ順番に出力する\n",
        "for user_name in user_names:\n",
        "  print(user_name)"
      ],
      "metadata": {
        "colab": {
          "base_uri": "https://localhost:8080/"
        },
        "id": "W2NBaTm97ccZ",
        "outputId": "d1abe59b-99a7-4da5-b2b7-e80834c6359f"
      },
      "execution_count": null,
      "outputs": [
        {
          "output_type": "stream",
          "name": "stdout",
          "text": [
            "侍太郎\n",
            "侍一郎\n",
            "侍二郎\n",
            "侍三郎\n",
            "侍四郎\n"
          ]
        }
      ]
    },
    {
      "cell_type": "code",
      "source": [
        "personal_data = {\"name\": \"侍太郎\", \"age\": 36, \"gender\": \"男性\"}\n",
        "\n",
        "# 連想配列personal_dataのキーと値を1つずつ順番に出力する\n",
        "for key, value in personal_data.items():\n",
        "  print(f\"{key}は{value}です。\")\n",
        "\n",
        "# 連想配列personal_dataの値を1つずつ順番に出力する\n",
        "for value in personal_data.values():\n",
        "  print(value)"
      ],
      "metadata": {
        "colab": {
          "base_uri": "https://localhost:8080/"
        },
        "id": "jK7JrOtS8URn",
        "outputId": "7fb496a9-a4f1-4e54-8faa-b22b7c7a3d7b"
      },
      "execution_count": null,
      "outputs": [
        {
          "output_type": "stream",
          "name": "stdout",
          "text": [
            "nameは侍太郎です。\n",
            "ageは36です。\n",
            "genderは男性です。\n",
            "侍太郎\n",
            "36\n",
            "男性\n"
          ]
        }
      ]
    },
    {
      "cell_type": "code",
      "source": [
        "user_names = [\"侍太郎\", \"侍一郎\", \"侍二郎\", \"侍三郎\", \"侍四郎\"]\n",
        "\n",
        "# 配列user_namesのインデックスと値を1つずつ順番に出力する\n",
        "for index, value in enumerate(user_names):\n",
        "  print(f\"{index} : {value}\")"
      ],
      "metadata": {
        "colab": {
          "base_uri": "https://localhost:8080/"
        },
        "id": "pUbcSE4P9LVX",
        "outputId": "c3cd7911-e664-44c5-9ee2-ba490486a73e"
      },
      "execution_count": null,
      "outputs": [
        {
          "output_type": "stream",
          "name": "stdout",
          "text": [
            "0 : 侍太郎\n",
            "1 : 侍一郎\n",
            "2 : 侍二郎\n",
            "3 : 侍三郎\n",
            "4 : 侍四郎\n"
          ]
        }
      ]
    },
    {
      "cell_type": "code",
      "source": [
        "user_names = [\"侍太郎\", \"侍一郎\", \"侍二郎\", \"侍三郎\", \"侍四郎\"]\n",
        "\n",
        "# 検索したいユーザー名を代入する変数\n",
        "target = \"侍二郎\"\n",
        "\n",
        "for user_name in user_names:\n",
        "  print(user_name)\n",
        "\n",
        "  # 変数user_nameと変数targetの値が一致すれば、break文で繰り返し処理を強制終了する\n",
        "  if (user_name == target):\n",
        "    print(f\"{target}さんが見つかったので、繰り返し処理を強制終了します。\")\n",
        "    break"
      ],
      "metadata": {
        "colab": {
          "base_uri": "https://localhost:8080/"
        },
        "id": "xYbWCYCU9xZL",
        "outputId": "2f0bffc9-7c7c-432d-a401-71fbc4e870c0"
      },
      "execution_count": null,
      "outputs": [
        {
          "output_type": "stream",
          "name": "stdout",
          "text": [
            "侍太郎\n",
            "侍一郎\n",
            "侍二郎\n",
            "侍二郎さんが見つかったので、繰り返し処理を強制終了します。\n"
          ]
        }
      ]
    },
    {
      "cell_type": "code",
      "source": [
        "score = {\n",
        "    \"国語\": 80,\n",
        "    \"数学\": 55,\n",
        "    \"理科\": 70,\n",
        "    \"社会\": 85,\n",
        "    \"英語\": 60\n",
        "}\n",
        "\n",
        "print(\"合格した科目は以下のとおりです。\")\n",
        "\n",
        "for key, value in score.items():\n",
        "  # 変数valueの値(点数)が70より小さければ、キー（科目名）と値（点数）を出力せずにcontinue文で次のループに進む\n",
        "  if (value < 70):\n",
        "    continue\n",
        "  print(f\"{key}:{value}点\")"
      ],
      "metadata": {
        "colab": {
          "base_uri": "https://localhost:8080/"
        },
        "id": "p_Doc-mU-bUc",
        "outputId": "fc283f6a-c411-4c30-c6fb-9ecb6ab013d0"
      },
      "execution_count": null,
      "outputs": [
        {
          "output_type": "stream",
          "name": "stdout",
          "text": [
            "合格した科目は以下のとおりです。\n",
            "国語:80点\n",
            "理科:70点\n",
            "社会:85点\n"
          ]
        }
      ]
    },
    {
      "cell_type": "code",
      "source": [
        "array = [\"水\", \"金\", \"地\", \"火\", \"木\", \"土\", \"天\", \"海\", \"冥\"]\n",
        "\n",
        "for element in array:\n",
        "    print(element)\n",
        "\n",
        "i = 0\n",
        "while i < len(array):\n",
        "    print(array[i])\n",
        "    i += 1"
      ],
      "metadata": {
        "colab": {
          "base_uri": "https://localhost:8080/"
        },
        "id": "ThE8J0BsA04O",
        "outputId": "c02d8816-5038-4feb-fb1e-506365c33b26"
      },
      "execution_count": null,
      "outputs": [
        {
          "output_type": "stream",
          "name": "stdout",
          "text": [
            "水\n",
            "金\n",
            "地\n",
            "火\n",
            "木\n",
            "土\n",
            "天\n",
            "海\n",
            "冥\n",
            "水\n",
            "金\n",
            "地\n",
            "火\n",
            "木\n",
            "土\n",
            "天\n",
            "海\n",
            "冥\n"
          ]
        }
      ]
    },
    {
      "cell_type": "code",
      "source": [
        "# 朝のあいさつを出力する関数を作成する\n",
        "def say_good_morning():\n",
        "  print(\"おはようございます！\")\n",
        "  print(\"昨日はよく眠れましたか？\")\n",
        "  print(\"今日も一日頑張りましょう！\")\n",
        "\n",
        "# 夜のあいさつを出力する関数を作成する\n",
        "def say_good_evening():\n",
        "  print(\"こんばんは！\")\n",
        "  print(\"今日も一日お疲れさまでした。\")\n",
        "\n",
        "# 朝のあいさつを出力する関数を呼び出す\n",
        "say_good_morning()\n",
        "\n",
        "# 夜のあいさつを出力する関数を呼び出す\n",
        "say_good_evening()"
      ],
      "metadata": {
        "colab": {
          "base_uri": "https://localhost:8080/"
        },
        "id": "wZ0PcdJUDY5o",
        "outputId": "91469db3-633a-453d-86e8-a9c8acbc9ed9"
      },
      "execution_count": null,
      "outputs": [
        {
          "output_type": "stream",
          "name": "stdout",
          "text": [
            "おはようございます！\n",
            "昨日はよく眠れましたか？\n",
            "今日も一日頑張りましょう！\n",
            "こんばんは！\n",
            "今日も一日お疲れさまでした。\n"
          ]
        }
      ]
    },
    {
      "cell_type": "code",
      "source": [
        "# 与えられた引数$priceに送料を加算し、その値を出力する関数を定義する\n",
        "def calculate_total(price):\n",
        "  # 与えられた引数priceに送料を加算し、変数totalに代入する\n",
        "  total = price + 500\n",
        "\n",
        "  # 変数totalの値を出力する\n",
        "  print(f\"{total}円\")\n",
        "\n",
        "# 関数を呼び出し、引数として購入金額を渡す\n",
        "calculate_total(1200)"
      ],
      "metadata": {
        "colab": {
          "base_uri": "https://localhost:8080/"
        },
        "id": "1gw_8fdpFHC9",
        "outputId": "89598fae-d98c-4dda-f450-480f08e5ab6f"
      },
      "execution_count": null,
      "outputs": [
        {
          "output_type": "stream",
          "name": "stdout",
          "text": [
            "1700円\n"
          ]
        }
      ]
    },
    {
      "cell_type": "code",
      "source": [
        "def add_two_arguments(price, shipping_fee):\n",
        "  # 与えられた引数priceと引数shipping_feeを加算し、変数totalに代入する\n",
        "  total = price + shipping_fee\n",
        "\n",
        "  # 変数$totalの値を出力する\n",
        "  print(f\"{total}円\")\n",
        "\n",
        "# 関数を呼び出し、引数として購入金額と送料を渡す\n",
        "add_two_arguments(1200, 500)"
      ],
      "metadata": {
        "colab": {
          "base_uri": "https://localhost:8080/"
        },
        "id": "SZ_YfSPtGKBa",
        "outputId": "3b24d00f-ea01-46f5-a5f7-1cf29fe33071"
      },
      "execution_count": null,
      "outputs": [
        {
          "output_type": "stream",
          "name": "stdout",
          "text": [
            "1700円\n"
          ]
        }
      ]
    },
    {
      "cell_type": "code",
      "source": [
        "# 購入済みかどうかを判定する変数\n",
        "purchased = True\n",
        "\n",
        "# 戻り値を返す関数を定義する\n",
        "def is_purchased():\n",
        "    if (purchased):\n",
        "      return True\n",
        "    else:\n",
        "      return False\n",
        "\n",
        "# 戻り値を返す関数を条件式に使う（Trueであれば処理が実行される）\n",
        "if (is_purchased()):\n",
        "  print(\"商品は購入済みです。\")"
      ],
      "metadata": {
        "colab": {
          "base_uri": "https://localhost:8080/"
        },
        "id": "Sg3iTSL-HFdG",
        "outputId": "b10187dd-dcc2-4870-cc05-84620f9c99d2"
      },
      "execution_count": null,
      "outputs": [
        {
          "output_type": "stream",
          "name": "stdout",
          "text": [
            "商品は購入済みです。\n"
          ]
        }
      ]
    },
    {
      "cell_type": "code",
      "source": [
        "def greet_user(user_name: str) -> str:\n",
        "    if user_name == \"\":\n",
        "        return \"こんにちは、ゲストさん！\"\n",
        "    else:\n",
        "        return f\"こんにちは、{user_name}さん！\"\n",
        "\n",
        "# 実行例\n",
        "print(greet_user(\"太郎\"))    # ユーザー名がある場合\n",
        "print(greet_user(\"\"))        # ユーザー名が空文字の場合"
      ],
      "metadata": {
        "id": "xLRV_3plIXoF",
        "colab": {
          "base_uri": "https://localhost:8080/"
        },
        "outputId": "589a6fdf-4129-4091-e533-0bdd20c5ca10"
      },
      "execution_count": 1,
      "outputs": [
        {
          "output_type": "stream",
          "name": "stdout",
          "text": [
            "こんにちは、太郎さん！\n",
            "こんにちは、ゲストさん！\n"
          ]
        }
      ]
    },
    {
      "cell_type": "code",
      "source": [
        "def calc_total_price(price, tax_rate):\n",
        "\n",
        "    tax_amount = price * (tax_rate / 100)\n",
        "    total = price + tax_amount\n",
        "    return total\n",
        "\n",
        "# 関数を使って計算\n",
        "price = 110\n",
        "tax_rate = 10\n",
        "total_price = calc_total_price(price, tax_rate)\n",
        "\n",
        "print(f\"税込価格は {total_price} 円です。\")"
      ],
      "metadata": {
        "colab": {
          "base_uri": "https://localhost:8080/"
        },
        "id": "vfkAcjGDI2Om",
        "outputId": "d2459d80-c2ff-4b15-9b52-06560d99dc1d"
      },
      "execution_count": 2,
      "outputs": [
        {
          "output_type": "stream",
          "name": "stdout",
          "text": [
            "税込価格は 121.0 円です。\n"
          ]
        }
      ]
    }
  ]
}